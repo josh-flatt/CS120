{
 "cells": [
  {
   "cell_type": "markdown",
   "id": "3ef7b322-467f-4a66-a975-66f9e8596601",
   "metadata": {
    "tags": []
   },
   "source": [
    "# Iterations and Loops\n",
    "\n",
    "Let's review what we have learned so far.\n",
    "\n",
    "We can write functions that refer to themselves. And this gives us a way of repeating a computation multiple times. Suppose we want to compute \n",
    "\n",
    "$$ \\sum_{n=0}^5 2^n = 1 + 2^1 + 2^2 + 2^3 + 2^4 + 2^5 $$"
   ]
  },
  {
   "cell_type": "code",
   "execution_count": null,
   "id": "ba67dff2-6b38-409f-9b81-5d856ca78e73",
   "metadata": {},
   "outputs": [],
   "source": []
  },
  {
   "cell_type": "markdown",
   "id": "a49bc635-4b34-4daf-9d64-b97ab7da422e",
   "metadata": {},
   "source": [
    "Essentially this gives us code that loops through itself until it reaches the termination **OR** until it hits the limitation MAX_RECURSION.\n",
    "\n",
    "However what are some problems you have noticed?"
   ]
  },
  {
   "cell_type": "code",
   "execution_count": null,
   "id": "6a6bde79-b271-40d1-8448-6061eb68725a",
   "metadata": {},
   "outputs": [],
   "source": [
    "\n",
    "\n",
    "\n",
    "\n",
    "\n",
    "\n",
    "\n"
   ]
  },
  {
   "cell_type": "markdown",
   "id": "2af66e1f-090e-4526-9b30-62ef16f8a98c",
   "metadata": {},
   "source": [
    "## What if the Pattern Changes\n",
    "\n",
    "In the example above there is a specified formula for the expression we are summing up. But that is not always the case. For example what if we want to sum up the first 20 prime numbers?  There is no formula for them. \n",
    "\n",
    "### Lists\n",
    "\n",
    "Enter lists. Lists in Python let us assemble objects (integers, floats, strings, lists themselves) into an ordered sequence:\n"
   ]
  },
  {
   "cell_type": "code",
   "execution_count": null,
   "id": "5bcae25a-4b44-4065-895c-e7b195257377",
   "metadata": {},
   "outputs": [],
   "source": [
    "list_of_integers = list(range(2, 100))"
   ]
  },
  {
   "cell_type": "markdown",
   "id": "932ea11d-eede-4a75-a2a0-24da1ee9338f",
   "metadata": {},
   "source": [
    "We can pull out elements of a list by refering to their position in brackets. **Warning:** so a choice has to be made about what the First element of a list is numbered by. Some programming languages start with 1; and others start with 0. Python starts with 0."
   ]
  },
  {
   "cell_type": "code",
   "execution_count": null,
   "id": "43963451-0fed-4513-b122-b1b83b32abac",
   "metadata": {},
   "outputs": [],
   "source": [
    "list_of_integers[0] # first element"
   ]
  },
  {
   "cell_type": "markdown",
   "id": "8859aa54-5936-48dd-8e7b-9524899f658a",
   "metadata": {},
   "source": [
    "There are some neat tricks. For exmaple -1 means the last element; -2 the second to last etc:"
   ]
  },
  {
   "cell_type": "code",
   "execution_count": null,
   "id": "a790339e-1273-4c19-ad15-5e13633003f4",
   "metadata": {},
   "outputs": [],
   "source": [
    "list_of_integers[-1]"
   ]
  },
  {
   "cell_type": "markdown",
   "id": "f9b04dad-01a6-4071-ba91-74bc7d86f9cb",
   "metadata": {},
   "source": [
    "#### Slices\n",
    "\n",
    "A principle thing we need to do is take parts of a list out. These are called *slices*:"
   ]
  },
  {
   "cell_type": "code",
   "execution_count": null,
   "id": "18197545-19b2-4d6e-a625-372dbb5d27c6",
   "metadata": {},
   "outputs": [],
   "source": [
    "list_of_integers[:10]\n",
    "# The first 10"
   ]
  },
  {
   "cell_type": "code",
   "execution_count": null,
   "id": "2b89632a-9264-4bb5-af54-8938769ea3ea",
   "metadata": {},
   "outputs": [],
   "source": [
    "list_of_integers[-10:]\n",
    "# the last 10"
   ]
  },
  {
   "cell_type": "code",
   "execution_count": null,
   "id": "bd3fc546-23e1-460d-bf65-2c76d813be99",
   "metadata": {},
   "outputs": [],
   "source": [
    "list_of_integers[10:20]\n",
    "# a middle 10"
   ]
  },
  {
   "cell_type": "code",
   "execution_count": null,
   "id": "2160fadb-5ca7-4bc2-b31d-6ed592c058fc",
   "metadata": {},
   "outputs": [],
   "source": [
    "list_of_integers[:20:3]\n",
    "# skipping some"
   ]
  },
  {
   "cell_type": "markdown",
   "id": "5018eda3-a179-493b-b905-0aebce8603f4",
   "metadata": {},
   "source": [
    "## Operations on Lists\n",
    "\n",
    "Some of our binary operations, like - and / do not make sense with lists.\n",
    "\n",
    "However + and * do make sense. Explain what they do:"
   ]
  },
  {
   "cell_type": "code",
   "execution_count": null,
   "id": "a7b1c9a4-12bf-4f16-9f35-79da0c337f83",
   "metadata": {},
   "outputs": [],
   "source": []
  },
  {
   "cell_type": "markdown",
   "id": "2d4475a8-7e85-4226-b5ce-612a150a33d3",
   "metadata": {},
   "source": [
    "### Length\n",
    "\n",
    "One of the primary pieces of information a list contains is how many elements it contains. We can access this with the *len* (for length):"
   ]
  },
  {
   "cell_type": "code",
   "execution_count": null,
   "id": "6aa583bb-37c9-43db-8fbb-e816c53374c3",
   "metadata": {},
   "outputs": [],
   "source": []
  },
  {
   "cell_type": "markdown",
   "id": "b10a0c46-7ad2-4d8e-8ec6-54c73ccd2e44",
   "metadata": {},
   "source": [
    "## Looping Over a List\n",
    "\n",
    "As you have already seen, a lot of what we do can be described as *Looping Over (or Through) a List*.  This is accomplished with a *for* loop. \n"
   ]
  },
  {
   "cell_type": "code",
   "execution_count": null,
   "id": "4f38566f-846a-48f7-8aef-8328c3a66b2c",
   "metadata": {},
   "outputs": [],
   "source": [
    "list_of_dogs = ['chloe', 'missy', 'sophie', 'ellie', 'shadow', 'achilles', 'wolf']\n",
    "for x in list_of_dogs: \n",
    "    print('{} is a good dog!'.format(x) )"
   ]
  },
  {
   "cell_type": "markdown",
   "id": "9a5f61aa-61af-498c-a4f8-5d23966eddea",
   "metadata": {},
   "source": [
    "and you should get a little tickle as you realize the power we have. \n",
    "\n",
    "For example we could go through a list of the first 100 integers and ask which ones are divisible by 13:"
   ]
  },
  {
   "cell_type": "code",
   "execution_count": null,
   "id": "46a55685-040e-48c4-934c-2ae7097e1881",
   "metadata": {},
   "outputs": [],
   "source": [
    "for x in list_of_integers:\n",
    "    \n",
    "    if x % 13 == 0:\n",
    "        print('{} is divisible by 13'.format(x))"
   ]
  },
  {
   "cell_type": "markdown",
   "id": "6db2d299-b49e-4ada-82fa-829f9b242734",
   "metadata": {},
   "source": [
    "In fact we can skip the whole *list_of_integers* and just put the range command in the for command. \n",
    "\n",
    "Why:  Well *for* looks for what Python calls an iterator to loop through. Iterators are more general than just lists, and so in practice anything that works as an iterator will work. \n"
   ]
  },
  {
   "cell_type": "markdown",
   "id": "0f9d5f20-e419-4d64-92ca-fb525f94b022",
   "metadata": {},
   "source": [
    "### Summing up the geometric series\n",
    "\n",
    "Let's use a for loop to compute \n",
    "\n",
    "$$ \\sum_{n=0}^5 2^n $$\n"
   ]
  },
  {
   "cell_type": "code",
   "execution_count": null,
   "id": "d302b172-3304-4d51-a404-54a6dc7af7c2",
   "metadata": {},
   "outputs": [],
   "source": [
    "# Make a list of the values\n"
   ]
  },
  {
   "cell_type": "code",
   "execution_count": null,
   "id": "5dc28519-db57-4373-b36a-2b8f56f9c441",
   "metadata": {},
   "outputs": [],
   "source": []
  },
  {
   "cell_type": "code",
   "execution_count": null,
   "id": "ca0d3a14-4249-4e65-b223-4b52cf932c2d",
   "metadata": {},
   "outputs": [],
   "source": []
  },
  {
   "cell_type": "markdown",
   "id": "703148c1-bf89-4e82-9288-36da39b705bd",
   "metadata": {},
   "source": [
    "## The Seive of Eratosthens\n",
    "\n",
    "Okay so let's see what we can do with this problem:  We want to build a list of prime integers. \n",
    "\n",
    "Eratosthens idea was to start with a list of all of the integers from 2 up, and then remove the ones that were multiples of 2; and then from that list remove the ones that were multiples of 3; and then .....\n",
    "\n",
    "It would be nice if we could do the same. However removing lists from lists is hard. What is easier is building lists - and in fact Python gives us a little shortcut that combines lists with for loops, called a *list generator expression*.\n"
   ]
  },
  {
   "cell_type": "code",
   "execution_count": null,
   "id": "7c53bdb2-9a0f-48b4-a445-9f3854e87a8d",
   "metadata": {},
   "outputs": [],
   "source": [
    "seive = list(range(2, 23))\n",
    "seive"
   ]
  },
  {
   "cell_type": "code",
   "execution_count": null,
   "id": "af7ace22-9f91-44ad-b2e7-2b76e46138ea",
   "metadata": {},
   "outputs": [],
   "source": []
  },
  {
   "cell_type": "code",
   "execution_count": null,
   "id": "156920a7-dea7-4161-a1d2-3b71cc8f7bac",
   "metadata": {},
   "outputs": [],
   "source": []
  },
  {
   "cell_type": "code",
   "execution_count": null,
   "id": "0459f4a6-ca3f-4138-9f40-a0a871b5778b",
   "metadata": {},
   "outputs": [],
   "source": []
  },
  {
   "cell_type": "code",
   "execution_count": null,
   "id": "ba42d38e-1e08-49b4-8672-44e39c0a3912",
   "metadata": {},
   "outputs": [],
   "source": []
  },
  {
   "cell_type": "code",
   "execution_count": null,
   "id": "76dffafe-ca6d-4304-90d1-4dec7ede412f",
   "metadata": {},
   "outputs": [],
   "source": []
  },
  {
   "cell_type": "code",
   "execution_count": null,
   "id": "bfe43d21-9cc3-4d6d-87c8-70a9374399c3",
   "metadata": {},
   "outputs": [],
   "source": []
  },
  {
   "cell_type": "markdown",
   "id": "8ca746cf-9ce3-4457-a48c-166bb4d0a8d4",
   "metadata": {},
   "source": [
    "And so on. Notice that we want to continue this process while the seive list is non-empty.\n",
    "\n",
    "**While** that gives me another idea.\n",
    "\n",
    "### While Loops\n",
    "\n",
    "*for* loops are helpful when we have an iterator (list) of things we know we want to go all the way through taking some action for each one. \n",
    "\n",
    "*while* loops are for situations where we want to repeat a task repeatedly until a condition is satisfied. \n",
    "\n",
    "Note immediately the danger. *for* loops will only run as long as there are items in the iterator left to use. Once the end of the iterator is reached the for loop is finished.  While loops will run until the condition is False; which means they could, if we are not careful, try to run forever == *Infinite Loop*"
   ]
  },
  {
   "cell_type": "code",
   "execution_count": null,
   "id": "15b0da5b-e3ac-4d21-873c-386b2a710dca",
   "metadata": {},
   "outputs": [],
   "source": [
    "x = 0\n",
    "while x<20:\n",
    "    print('{} is not yet 20'.format(x))\n",
    "    x += 1\n",
    "    \n",
    "print('Now x is 20!')"
   ]
  },
  {
   "cell_type": "markdown",
   "id": "8964761e-b36d-4b05-aa96-78c09b7e6f88",
   "metadata": {},
   "source": [
    "A fun excercise:  Usually you can do anything with any type of loop."
   ]
  },
  {
   "cell_type": "code",
   "execution_count": null,
   "id": "34a3311a-b2a5-4c8a-a70a-e69ffe4b3902",
   "metadata": {},
   "outputs": [],
   "source": []
  },
  {
   "cell_type": "code",
   "execution_count": null,
   "id": "7acc1eb1-136d-412b-bb6a-8956b5b81091",
   "metadata": {},
   "outputs": [],
   "source": []
  },
  {
   "cell_type": "markdown",
   "id": "7af92d72-5ab9-4800-bf29-0f16a654fb89",
   "metadata": {},
   "source": [
    "## Seive of Erosthenes\n",
    "\n",
    "So let's go back to our seive and explain what we want to do:\n",
    "\n",
    "- Start with a seive of the integers from 2 up to some large n; and a list of primes that begins empty.\n",
    "\n",
    "- *While* the seive is not emtpy:\n",
    "\n",
    "a. take the first element from the seive and add it to the list of primes\n",
    "\n",
    "b. make a new seive that is all the elements from the old ones except those divisible by the integer we just removed.\n"
   ]
  },
  {
   "cell_type": "code",
   "execution_count": null,
   "id": "28248690-8045-40dc-89ee-b11331754329",
   "metadata": {},
   "outputs": [],
   "source": []
  },
  {
   "cell_type": "code",
   "execution_count": null,
   "id": "75e6d8f3-7184-4447-9eff-789a327980fe",
   "metadata": {},
   "outputs": [],
   "source": []
  },
  {
   "cell_type": "code",
   "execution_count": null,
   "id": "b13b382d-b385-48c5-9379-299161096651",
   "metadata": {},
   "outputs": [],
   "source": []
  }
 ],
 "metadata": {
  "kernelspec": {
   "display_name": "Python 3",
   "language": "python",
   "name": "python3"
  },
  "language_info": {
   "codemirror_mode": {
    "name": "ipython",
    "version": 3
   },
   "file_extension": ".py",
   "mimetype": "text/x-python",
   "name": "python",
   "nbconvert_exporter": "python",
   "pygments_lexer": "ipython3",
   "version": "3.9.5"
  }
 },
 "nbformat": 4,
 "nbformat_minor": 5
}
