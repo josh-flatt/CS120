{
 "cells": [
  {
   "cell_type": "markdown",
   "id": "a7226225-51fe-406c-aa3f-9b7a98bcff11",
   "metadata": {},
   "source": [
    "# Homework 3\n",
    "\n",
    "**Reading:** Chapter 6 in the textbook\n",
    "\n",
    "## Question 1:\n",
    "\n",
    "Submit a full refined set of functions for estimating the $ \\sqrt{S}$ from an initial guess that gives a result accurate to $10^{-4}$ or produces an error that max recursion has been reached.\n",
    "\n",
    "## Question 2:\n",
    "\n",
    "Can you adjust your code for estimating $ \\sqrt[3]{S}$ from an intial guess that gives a result accurate to $10^{-4}$ or produces an error that max recursion has been reached.\n",
    "\n",
    "## Question 3:\n",
    "\n",
    "Go back and add docstrings to your functions describing what inputs they take and what they produce."
   ]
  },
  {
   "cell_type": "code",
   "execution_count": null,
   "id": "790d0218-7300-4747-93e5-9b39abd0c061",
   "metadata": {},
   "outputs": [],
   "source": [
    "##Question Number 1\n"
   ]
  }
 ],
 "metadata": {
  "kernelspec": {
   "display_name": "Python 3",
   "language": "python",
   "name": "python3"
  },
  "language_info": {
   "codemirror_mode": {
    "name": "ipython",
    "version": 3
   },
   "file_extension": ".py",
   "mimetype": "text/x-python",
   "name": "python",
   "nbconvert_exporter": "python",
   "pygments_lexer": "ipython3",
   "version": "3.8.8"
  }
 },
 "nbformat": 4,
 "nbformat_minor": 5
}
