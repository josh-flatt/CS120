{
 "cells": [
  {
   "cell_type": "code",
   "execution_count": 37,
   "id": "a8dc2d72",
   "metadata": {},
   "outputs": [],
   "source": [
    "def setup():  #ONLY & ALWAYS RUN THIS ON FIRST USE OF PROGRAM\n",
    "    '''\n",
    "    initializes checkbook log\n",
    "    '''\n",
    "    f = open(\"checkbook_log.txt\",\"w\")\n",
    "    f.write(\"### note ; withdrawl , deposit ###\\n\")\n",
    "    f.close"
   ]
  },
  {
   "cell_type": "code",
   "execution_count": 38,
   "id": "908740aa",
   "metadata": {},
   "outputs": [],
   "source": [
    "def read_line(line):\n",
    "    '''\n",
    "    reads information from checkbook log to use for computations.\n",
    "    '''\n",
    "    f = open(\"checkbook_log.txt\",\"r\")\n",
    "    sp1 = line.find(';')\n",
    "    sp2 = line.find(',')\n",
    "    if sp1 != -1:\n",
    "        note = str(line[:sp1])\n",
    "        withdrawl = float(line[sp1+1:sp2])\n",
    "        deposit = float(line[sp2+1:-1])\n",
    "    else:\n",
    "        print(\"ERROR: spacer not found\")\n",
    "        return None\n",
    "    f.close()\n",
    "    return note,withdrawl,deposit\n",
    "\n"
   ]
  },
  {
   "cell_type": "code",
   "execution_count": 39,
   "id": "0647a5e2",
   "metadata": {},
   "outputs": [],
   "source": [
    "def writeline(note,withdrawl,deposit):\n",
    "    '''\n",
    "    writes information to file\n",
    "    '''\n",
    "    f = open(\"checkbook_log.txt\",\"a+\")\n",
    "    f.write(\"{};{},{}\\n\".format(note,withdrawl,deposit))\n",
    "    f.close()"
   ]
  },
  {
   "cell_type": "code",
   "execution_count": 40,
   "id": "87fbf1de",
   "metadata": {},
   "outputs": [],
   "source": [
    "def depositTotal():\n",
    "    '''\n",
    "    calculates total of the deposits and displays it to user\n",
    "    '''\n",
    "    f = open(\"checkbook_log.txt\",\"r\")\n",
    "    line = f.readline()\n",
    "    dtot = 0\n",
    "    for line in f:\n",
    "        sp1 = line.find(';')\n",
    "        sp2 = line.find(',')\n",
    "        if sp1 != -1:\n",
    "            note = str(line[:sp1])\n",
    "            withdrawl = float(line[sp1+1:sp2])\n",
    "            deposit = float(line[sp2+1:-1])\n",
    "        else:\n",
    "            print(\"ERROR: spacer not found\")\n",
    "            return None\n",
    "        dtot += deposit\n",
    "    f.close()\n",
    "    return dtot"
   ]
  },
  {
   "cell_type": "code",
   "execution_count": 41,
   "id": "f716d117",
   "metadata": {},
   "outputs": [],
   "source": [
    "def withdrawlTotal():\n",
    "    '''\n",
    "    calculates total of the withdrawls and displays it to user\n",
    "    '''\n",
    "    f = open(\"checkbook_log.txt\",\"r\")\n",
    "    line = f.readline()\n",
    "    wtot = 0\n",
    "    for line in f:\n",
    "        sp1 = line.find(';')\n",
    "        sp2 = line.find(',')\n",
    "        if sp1 != -1:\n",
    "            note = str(line[:sp1])\n",
    "            withdrawl = float(line[sp1+1:sp2])\n",
    "            deposit = float(line[sp2+1:-1])\n",
    "        else:\n",
    "            print(\"ERROR: spacer not found\")\n",
    "            return None\n",
    "        wtot += withdrawl\n",
    "    return wtot\n",
    "    f.close()"
   ]
  },
  {
   "cell_type": "code",
   "execution_count": 42,
   "id": "159f2ed1",
   "metadata": {},
   "outputs": [],
   "source": [
    "def majorWithdrawls(x):\n",
    "    '''\n",
    "    Finds and prints out all transactions with withdrawls over amount 'x'\n",
    "    '''\n",
    "    f = open(\"checkbook_log.txt\",\"r\")\n",
    "    line = f.readline()\n",
    "    for line in f:\n",
    "        sp1 = line.find(';')\n",
    "        sp2 = line.find(',')\n",
    "        if sp1 != -1:\n",
    "            note = str(line[:sp1])\n",
    "            withdrawl = float(line[sp1+1:sp2])\n",
    "            deposit = float(line[sp2+1:-1])\n",
    "        else:\n",
    "            print(\"ERROR: spacer not found\")\n",
    "            return None\n",
    "        if withdrawl > x:\n",
    "            print(note,\", withdrawl:\",withdrawl,\", deposit:\",deposit,\", Net\",deposit-withdrawl)\n",
    "    f.close()"
   ]
  },
  {
   "cell_type": "code",
   "execution_count": 43,
   "id": "1e1b621c",
   "metadata": {},
   "outputs": [],
   "source": [
    "def majorDeposits(x):\n",
    "    '''\n",
    "    Finds and prints out all transactions with deposits over amount 'x'\n",
    "    '''\n",
    "    f = open(\"checkbook_log.txt\",\"r\")\n",
    "    line = f.readline()\n",
    "    for line in f:\n",
    "        sp1 = line.find(';')\n",
    "        sp2 = line.find(',')\n",
    "        if sp1 != -1:\n",
    "            note = str(line[:sp1])\n",
    "            withdrawl = float(line[sp1+1:sp2])\n",
    "            deposit = float(line[sp2+1:-1])\n",
    "        else:\n",
    "            print(\"ERROR: spacer not found\")\n",
    "            return None\n",
    "        if deposit > x:\n",
    "            print(note,\", withdrawl:\",withdrawl,\", deposit:\",deposit,\", Net\",deposit-withdrawl)\n",
    "    f.close()"
   ]
  },
  {
   "cell_type": "code",
   "execution_count": 44,
   "id": "b094516a",
   "metadata": {},
   "outputs": [],
   "source": [
    "def balance():\n",
    "    '''\n",
    "    Displays net balance of the checkbook log\n",
    "    '''\n",
    "    x = depositTotal() - withdrawlTotal()\n",
    "    return x\n",
    "    f.close()"
   ]
  },
  {
   "cell_type": "code",
   "execution_count": 45,
   "id": "f3a40369",
   "metadata": {},
   "outputs": [],
   "source": [
    "def outputLog():\n",
    "    '''\n",
    "    Writes all data in checkbook log to a Neatly formatted output table\n",
    "    '''\n",
    "    f = open(\"checkbook_log.txt\",\"r\")\n",
    "    j = open(\"chck_output.txt\",\"w\")\n",
    "    j.write(\"---Note------------Withdrawl-------------Deposit---\\n\")\n",
    "    f_line = f.readline()\n",
    "    for f_line in f:\n",
    "        sp1 = f_line.find(';')\n",
    "        sp2 = f_line.find(',')\n",
    "        if sp1 != -1:\n",
    "            note = str(f_line[:sp1])\n",
    "            withdrawl = float(f_line[sp1+1:sp2])\n",
    "            deposit = float(f_line[sp2+1:-1])\n",
    "        else:\n",
    "            print(\"ERROR: spacer not found\")\n",
    "            return None\n",
    "        j.write(\"{}      |        {}        |        {}\\n\".format(note,withdrawl,deposit))\n",
    "    j.write(\"---------------------------------------------------\\n\")\n",
    "    j.write(\"Total          |        {}         |       {}\".format(withdrawlTotal(),depositTotal()))\n",
    "    f.close()\n",
    "    j.close()\n",
    "        "
   ]
  }
 ],
 "metadata": {
  "kernelspec": {
   "display_name": "Python 3",
   "language": "python",
   "name": "python3"
  },
  "language_info": {
   "codemirror_mode": {
    "name": "ipython",
    "version": 3
   },
   "file_extension": ".py",
   "mimetype": "text/x-python",
   "name": "python",
   "nbconvert_exporter": "python",
   "pygments_lexer": "ipython3",
   "version": "3.8.8"
  }
 },
 "nbformat": 4,
 "nbformat_minor": 5
}
