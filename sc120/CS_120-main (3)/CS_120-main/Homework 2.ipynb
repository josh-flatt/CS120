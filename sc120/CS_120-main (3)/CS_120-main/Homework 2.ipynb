{
 "cells": [
  {
   "cell_type": "markdown",
   "id": "a7226225-51fe-406c-aa3f-9b7a98bcff11",
   "metadata": {},
   "source": [
    "# Homework 2\n",
    "\n",
    "**Reading:** Read Chapter 5 in the textbook. Remember it is online.\n",
    "\n",
    "## Question 1:\n",
    "\n",
    "Do the second exercise from the Activity 2:  Write a odd_factorial function that given an positive odd integer, computes the product of that number and all of the smaller positive odd integers. The mathematical notation for this is the *double factorial* (2N-1)!!.\n",
    "\n",
    "\n",
    "## Question 2: \n",
    "\n",
    "The pairing problem is the following:  We have 2N students in the class, and the teacher wants to form them in to pairs for an assignment. The number of pairs is given by (2N-1)!!.\n",
    "\n",
    "What should the answer be if the class has an odd number of students?\n",
    "\n",
    "Write a function that takes the number of students in the class and returns the number of pairs the teacher can form if the input is odd; and the answer you decided on above if the input is even.\n",
    "\n",
    "## Quesiton 3:\n",
    "\n",
    "If you are given three sticks, you may or may not be able to form them into a triangle. The test is if any of the three sticks is longer than the sum of the lengths of the other two then you cannot form a triangle.\n",
    "\n",
    "Write a function that takes the lengths of the three sticks and produces an output indicating whether we can form a triangle with them or not.\n"
   ]
  },
  {
   "cell_type": "code",
   "execution_count": null,
   "id": "790d0218-7300-4747-93e5-9b39abd0c061",
   "metadata": {},
   "outputs": [],
   "source": []
  }
 ],
 "metadata": {
  "kernelspec": {
   "display_name": "Python 3",
   "language": "python",
   "name": "python3"
  },
  "language_info": {
   "codemirror_mode": {
    "name": "ipython",
    "version": 3
   },
   "file_extension": ".py",
   "mimetype": "text/x-python",
   "name": "python",
   "nbconvert_exporter": "python",
   "pygments_lexer": "ipython3",
   "version": "3.9.5"
  }
 },
 "nbformat": 4,
 "nbformat_minor": 5
}
